{
  "cells": [
    {
      "cell_type": "raw",
      "metadata": {},
      "source": [
        "---\n",
        "title: \"My Work\"\n",
        "listing:\n",
        "  contents: posts\n",
        "  sort: \"date desc\"\n",
        "  type: grid       # Change the layout type to grid\n",
        "  categories: false # Disable categories if you don't want them displayed\n",
        "  sort-ui: false\n",
        "  filter-ui: false\n",
        "page-layout: full\n",
        "title-block-banner: true\n",
        "---"
      ],
      "id": "c71a3959"
    },
    {
      "cell_type": "markdown",
      "metadata": {},
      "source": [
        "```{css echo=FALSE}\n",
        ".quarto-listing-grid .listing-item-title {\n",
        "    text-align: left !important; /* Ensures that the title text in the listing grid is left-aligned */\n",
        "}\n",
        "```"
      ],
      "id": "7249ffa0"
    }
  ],
  "metadata": {
    "kernelspec": {
      "display_name": "Python 3",
      "language": "python",
      "name": "python3"
    }
  },
  "nbformat": 4,
  "nbformat_minor": 5
}