{
  "cells": [
    {
      "cell_type": "markdown",
      "metadata": {},
      "source": [
        "ts---\n",
        "title: \"Resume\" \n",
        "date: 2024-05-26\n",
        "published-title: Last Updated\n",
        "engine: knitr\n",
        "freeze: false\n",
        "cv:\n",
        "  pdf: assets/JarredRandall_Resume.pdf"
      ],
      "id": "d9291f60"
    },
    {
      "cell_type": "markdown",
      "metadata": {},
      "source": [
        "---\n",
        "\n",
        "```{css echo=FALSE}\n",
        ".embed-container {\n",
        "    position: relative;\n",
        "    padding-bottom: 129%;\n",
        "    height: 0;\n",
        "    overflow: hidden;\n",
        "    max-width: 100%;\n",
        "}\n",
        "\n",
        ".embed-container iframe,\n",
        ".embed-container object,\n",
        ".embed-container embed {\n",
        "    position: absolute;\n",
        "    top: 0;\n",
        "    left: 0;\n",
        "    width: 100%;\n",
        "    height: 100%;\n",
        "}\n",
        "\n",
        ".cv-download-container {\n",
        "    margin-top: 20px; /* Adjust this value to control the space */\n",
        "}\n",
        "```\n",
        "\n",
        "```{=html}\n",
        "<!-- No changes needed for the embed-container -->\n",
        "<div class=\"embed-container\">\n",
        "  <iframe src=\"`r rmarkdown::metadata$cv$pdf`\" style=\"border: 0.5px\"></iframe>\n",
        "</div>\n",
        "```"
      ],
      "id": "91d514a8"
    }
  ],
  "metadata": {
    "kernelspec": {
      "display_name": "Python 3",
      "language": "python",
      "name": "python3"
    }
  },
  "nbformat": 4,
  "nbformat_minor": 5
}